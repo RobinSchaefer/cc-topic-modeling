{
 "cells": [
  {
   "cell_type": "code",
   "execution_count": null,
   "id": "71e6bd6a",
   "metadata": {},
   "outputs": [],
   "source": [
    "from bertopic import BERTopic\n",
    "from bertopic.representation import MaximalMarginalRelevance\n",
    "from bertopic.vectorizers import ClassTfidfTransformer\n",
    "from hdbscan import HDBSCAN\n",
    "import os\n",
    "import pandas as pd\n",
    "import pickle\n",
    "from pprint import pprint\n",
    "import re\n",
    "from sentence_transformers import SentenceTransformer"
   ]
  },
  {
   "cell_type": "code",
   "execution_count": null,
   "id": "6f1d5819",
   "metadata": {},
   "outputs": [],
   "source": [
    "speeches_path = 'IN_PATH'\n",
    "\n",
    "topic_model_path = 'OUT_PATH'"
   ]
  },
  {
   "cell_type": "code",
   "execution_count": null,
   "id": "abecd123",
   "metadata": {},
   "outputs": [],
   "source": [
    "df = pd.read_csv(speeches_path, lineterminator='\\n')\n",
    "print(df.shape)\n",
    "\n",
    "df.head()"
   ]
  },
  {
   "cell_type": "markdown",
   "id": "a2cc7825",
   "metadata": {},
   "source": [
    "dataframe columns: speech_id, date, speaker, party, text"
   ]
  },
  {
   "cell_type": "code",
   "execution_count": null,
   "id": "a91c2c89",
   "metadata": {
    "scrolled": false
   },
   "outputs": [],
   "source": [
    "speeches = df['text'].tolist()\n",
    "print('Number of speeches: {}'.format(len(speeches)))"
   ]
  },
  {
   "cell_type": "code",
   "execution_count": null,
   "id": "a5ed20dc",
   "metadata": {},
   "outputs": [],
   "source": [
    "bertopic_model_path = os.path.join(topic_model_path, 'tm.tm')\n",
    "bertopic_model_params_path = os.path.join(topic_model_path, 'tm_params.txt')\n",
    "bertopic_model_topic_labels_path = os.path.join(topic_model_path, 'tm_labels.pickle')\n",
    "print(bertopic_model_path)"
   ]
  },
  {
   "cell_type": "code",
   "execution_count": null,
   "id": "50a4b058",
   "metadata": {},
   "outputs": [],
   "source": [
    "# define hyper parameters\n",
    "embedding_type = 'sentence' # 'sentence', 'twitter_bert'\n",
    "clustering_algorithm = 'hdbscan' # 'hdbscan', 'kmeans'\n",
    "\n",
    "n_clusters = 10 # n topics for kmeans\n",
    "\n",
    "bm25_weighting=True\n",
    "reduce_frequent_words=True\n",
    "\n",
    "top_n_words = 10\n",
    "min_topic_size = 10\n",
    "\n",
    "diversity = 0.2\n",
    "\n",
    "diversify = True\n",
    "\n",
    "if diversify:\n",
    "    representation_model = MaximalMarginalRelevance(diversity=diversity)\n",
    "else:\n",
    "    representation_model = None\n",
    "\n",
    "######################\n",
    "\n",
    "# embedding model\n",
    "if embedding_type == 'sentence':\n",
    "    embedding_model = SentenceTransformer('all-mpnet-base-v2')\n",
    "elif embedding_type == 'twitter_bert':\n",
    "    pass\n",
    "\n",
    "# clustering algorithm\n",
    "if clustering_algorithm == 'hdbscan':\n",
    "    cluster_model = HDBSCAN(min_cluster_size=15, metric='euclidean', cluster_selection_method='eom', prediction_data=True)\n",
    "elif clustering_algorithm == 'kmeans':\n",
    "    cluster_model = KMeans(n_clusters=n_clusters)\n",
    "\n",
    "# c-tf-idf\n",
    "ctfidf_model = ClassTfidfTransformer(bm25_weighting=bm25_weighting, reduce_frequent_words=reduce_frequent_words)\n",
    "\n",
    "#######################\n",
    "params = {}\n",
    "\n",
    "params['embedding_type'] = embedding_type\n",
    "params['clustering_algorithm'] = clustering_algorithm\n",
    "if clustering_algorithm == 'kmeans':\n",
    "    params['n_clusters'] = n_clusters\n",
    "params['bm25_weighting'] = str(bm25_weighting)\n",
    "params['reduce_frequent_words'] = str(reduce_frequent_words)\n",
    "params['top_n_words'] = str(top_n_words)\n",
    "params['min_topic_size'] = str(min_topic_size)\n",
    "if diversify:\n",
    "    params['diversification_score'] = str(diversity)\n",
    "else:\n",
    "    params['diversification_score'] = str(None)\n",
    "\n",
    "pprint(params)"
   ]
  },
  {
   "cell_type": "code",
   "execution_count": null,
   "id": "ba724f34",
   "metadata": {},
   "outputs": [],
   "source": [
    "# initialize topic model\n",
    "topic_model = BERTopic(embedding_model=embedding_model, \n",
    "                       hdbscan_model=cluster_model, \n",
    "                       ctfidf_model=ctfidf_model, \n",
    "                       top_n_words=top_n_words,\n",
    "                       min_topic_size = min_topic_size,\n",
    "                       representation_model=representation_model,\n",
    "                       verbose=True)"
   ]
  },
  {
   "cell_type": "code",
   "execution_count": null,
   "id": "7c5aa877",
   "metadata": {},
   "outputs": [],
   "source": [
    "# train topic model\n",
    "topics, probs = topic_model.fit_transform(speeches)"
   ]
  },
  {
   "cell_type": "code",
   "execution_count": null,
   "id": "7cbcc5f5",
   "metadata": {},
   "outputs": [],
   "source": [
    "# save model\n",
    "topic_model.save(bertopic_model_path)"
   ]
  },
  {
   "cell_type": "code",
   "execution_count": null,
   "id": "d3699b82",
   "metadata": {},
   "outputs": [],
   "source": [
    "# save hyper parameters\n",
    "with open(bertopic_model_params_path, mode='w') as f_out:\n",
    "    for key, value in params.items():\n",
    "        f_out.write(key + ':' + '\\t' + value + '\\n')"
   ]
  },
  {
   "cell_type": "code",
   "execution_count": null,
   "id": "b4b890f5",
   "metadata": {},
   "outputs": [],
   "source": [
    "# save topic labels\n",
    "with open(bertopic_model_topic_labels_path, mode='wb') as f_out:\n",
    "    pickle.dump(topics, f_out)"
   ]
  }
 ],
 "metadata": {
  "kernelspec": {
   "display_name": "Python 3 (ipykernel)",
   "language": "python",
   "name": "python3"
  },
  "language_info": {
   "codemirror_mode": {
    "name": "ipython",
    "version": 3
   },
   "file_extension": ".py",
   "mimetype": "text/x-python",
   "name": "python",
   "nbconvert_exporter": "python",
   "pygments_lexer": "ipython3",
   "version": "3.8.10"
  }
 },
 "nbformat": 4,
 "nbformat_minor": 5
}
