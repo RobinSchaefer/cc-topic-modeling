{
 "cells": [
  {
   "cell_type": "code",
   "execution_count": null,
   "id": "44046183",
   "metadata": {},
   "outputs": [],
   "source": [
    "from bertopic import BERTopic\n",
    "import pandas as pd"
   ]
  },
  {
   "cell_type": "code",
   "execution_count": null,
   "id": "7eb74b77",
   "metadata": {},
   "outputs": [],
   "source": [
    "speeches_path = 'DATA_IN_PATH'\n",
    "\n",
    "topic_model_path = 'TM_IN_PATH'\n",
    "params_path = 'PARAMS_IN_PATH'\n",
    "print(topic_model_path)\n",
    "\n",
    "# out\n",
    "eval_out_path = 'EVAL_OUT_PATH'"
   ]
  },
  {
   "cell_type": "code",
   "execution_count": null,
   "id": "60da9565",
   "metadata": {},
   "outputs": [],
   "source": [
    "# extract tweets and timestamps for dynamic tm\n",
    "\n",
    "speeches_df = pd.read_csv(speeches_path, lineterminator='\\n')\n",
    "print(speeches_df.shape)\n",
    "\n",
    "speeches = speeches_df['text'].tolist()\n",
    "timestamps = speeches_df['date'].tolist()"
   ]
  },
  {
   "cell_type": "code",
   "execution_count": null,
   "id": "75072348",
   "metadata": {},
   "outputs": [],
   "source": [
    "speeches_df.head()"
   ]
  },
  {
   "cell_type": "code",
   "execution_count": null,
   "id": "4caf3f12",
   "metadata": {},
   "outputs": [],
   "source": [
    "# avg speech len (char)\n",
    "speech_len_char = [len(speech) for speech in speeches]\n",
    "print('Average Speech Length (char): {}'.format(int(sum(speech_len_char)/len(speeches))))\n",
    "\n",
    "# avg speech len (token)\n",
    "speech_len_token = [len(speech.split()) for speech in speeches_df['text_tokenized'].tolist()]\n",
    "print('Average Speech Length (token): {}'.format(int(sum(speech_len_token)/len(speeches))))"
   ]
  },
  {
   "cell_type": "code",
   "execution_count": null,
   "id": "ef8aceba",
   "metadata": {},
   "outputs": [],
   "source": [
    "with open(params_path, mode='r') as f_in:\n",
    "    for line in f_in.readlines():\n",
    "        print(line.strip())"
   ]
  },
  {
   "cell_type": "code",
   "execution_count": null,
   "id": "140f7f09",
   "metadata": {},
   "outputs": [],
   "source": [
    "topic_model = BERTopic.load(topic_model_path)"
   ]
  },
  {
   "cell_type": "code",
   "execution_count": null,
   "id": "e22728cd",
   "metadata": {},
   "outputs": [],
   "source": [
    "topic_model.get_topic_info()"
   ]
  },
  {
   "cell_type": "code",
   "execution_count": null,
   "id": "ae1f8e76",
   "metadata": {},
   "outputs": [],
   "source": [
    "topic_10_counts = topic_model.get_topic_info()['Count'][1:11].tolist()\n",
    "\n",
    "print('Most Common Topics\\n')\n",
    "for i in range(10):\n",
    "    topic_models_rounded = [(topic[0], round(topic[1], 3)) for topic in topic_model.get_topic(i)[0:10]]\n",
    "    \n",
    "    topic_number = 'Topic_{}_n_{}'.format(str(i+1), topic_10_counts[i])\n",
    "    \n",
    "    print('\\n{}'.format(topic_number))\n",
    "    print(topic_models_rounded)\n",
    "        \n",
    "    if i == 0:\n",
    "        topic_10_df = pd.DataFrame(topic_models_rounded, columns=[topic_number, 'score'])\n",
    "    else:\n",
    "        topic_df = pd.DataFrame(topic_models_rounded, columns=[topic_number, 'score'])\n",
    "        \n",
    "        topic_10_df = pd.concat([topic_10_df, topic_df], axis=1)\n",
    "\n",
    "    "
   ]
  },
  {
   "cell_type": "code",
   "execution_count": null,
   "id": "c06b02d8",
   "metadata": {},
   "outputs": [],
   "source": [
    "topic_10_df.head(10)"
   ]
  },
  {
   "cell_type": "code",
   "execution_count": null,
   "id": "386b1c96",
   "metadata": {},
   "outputs": [],
   "source": [
    "#topic_10_df.to_csv(eval_out_path, index=False)"
   ]
  },
  {
   "cell_type": "code",
   "execution_count": null,
   "id": "81e4b171",
   "metadata": {},
   "outputs": [],
   "source": []
  }
 ],
 "metadata": {
  "kernelspec": {
   "display_name": "Python 3 (ipykernel)",
   "language": "python",
   "name": "python3"
  },
  "language_info": {
   "codemirror_mode": {
    "name": "ipython",
    "version": 3
   },
   "file_extension": ".py",
   "mimetype": "text/x-python",
   "name": "python",
   "nbconvert_exporter": "python",
   "pygments_lexer": "ipython3",
   "version": "3.8.10"
  }
 },
 "nbformat": 4,
 "nbformat_minor": 5
}
